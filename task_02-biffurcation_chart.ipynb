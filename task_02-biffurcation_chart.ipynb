{
 "cells": [
  {
   "cell_type": "markdown",
   "metadata": {},
   "source": [
    "# Диаграмма бифуркации"
   ]
  },
  {
   "cell_type": "code",
   "execution_count": 4,
   "metadata": {},
   "outputs": [
    {
     "name": "stderr",
     "output_type": "stream",
     "text": [
      "100%|███████████████████████████████████████████████████████████████████████████████████████████████████████████████████████████████████| 400/400 [09:41<00:00,  1.45s/it]\n"
     ]
    }
   ],
   "source": [
    "import numpy as np\n",
    "from scipy.integrate import odeint\n",
    "import matplotlib.pyplot as plt\n",
    "from tqdm import tqdm\n",
    "\n",
    "func = lambda u,t,a : [1 + a*u[1]*u[2], u[0] - u[1], 1-u[0]*u[1]] \n",
    "u0 = [0.5,1.5,1]\n",
    "t = np.arange(0, 1000, .1)\n",
    "\n",
    "a_vals_rng = np.arange(0,20,0.05)\n",
    "\n",
    "vals = []\n",
    "\n",
    "for a_t in tqdm(a_vals_rng):\n",
    "    u_t = odeint(func, u0, t, args=(a_t,))\n",
    "    min_val = np.min(u_t[:,1])\n",
    "    max_val = np.max(u_t[:,1])\n",
    "    for n in u_t[50:,1]:\n",
    "        if n  == min_val:\n",
    "            vals.append([n,a_t])\n",
    "        if n == max_val:\n",
    "            vals.append([n,a_t])"
   ]
  },
  {
   "cell_type": "code",
   "execution_count": 5,
   "metadata": {},
   "outputs": [
    {
     "data": {
      "text/plain": [
       "[<matplotlib.lines.Line2D at 0x2cc45ed6ca0>]"
      ]
     },
     "execution_count": 5,
     "metadata": {},
     "output_type": "execute_result"
    },
    {
     "data": {
      "image/png": "[encoded data removed]",
      "text/plain": [
       "<Figure size 432x288 with 1 Axes>"
      ]
     },
     "metadata": {
      "needs_background": "light"
     },
     "output_type": "display_data"
    }
   ],
   "source": [
    "x = []\n",
    "y = []\n",
    "for i in vals:\n",
    "    x.append(i[1])\n",
    "    y.append(i[0])\n",
    "    \n",
    "plt.plot(x[2:],y[2:], 'o', markersize=4)"
   ]
  },
  {
   "cell_type": "code",
   "execution_count": null,
   "metadata": {},
   "outputs": [],
   "source": []
  }
 ],
 "metadata": {
  "kernelspec": {
   "display_name": "Python 3",
   "language": "python",
   "name": "python3"
  },
  "language_info": {
   "codemirror_mode": {
    "name": "ipython",
    "version": 3
   },
   "file_extension": ".py",
   "mimetype": "text/x-python",
   "name": "python",
   "nbconvert_exporter": "python",
   "pygments_lexer": "ipython3",
   "version": "3.8.0"
  }
 },
 "nbformat": 4,
 "nbformat_minor": 4
}
