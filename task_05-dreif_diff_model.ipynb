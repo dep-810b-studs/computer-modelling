{
 "cells": [
  {
   "cell_type": "markdown",
   "metadata": {},
   "source": [
    "# Модель Дрейфа-Диффузии\n",
    "\\begin{equation}\n",
    "\\frac{\\partial u}{\\partial t} = {\\alpha} \\frac{\\partial^2 u}{\\partial x^2} -V \\frac{\\partial u}{\\partial x}  + CU\n",
    "\\end{equation}"
   ]
  },
  {
   "cell_type": "code",
   "execution_count": 21,
   "metadata": {},
   "outputs": [],
   "source": [
    "import numpy as np\n",
    "from math import sqrt, exp, pi\n",
    "import matplotlib.pyplot as plt"
   ]
  },
  {
   "cell_type": "markdown",
   "metadata": {},
   "source": [
    "# Диффузия\n",
    "\\begin{equation}\n",
    "\\frac{\\partial u}{\\partial t} = {\\alpha} \\frac{\\partial^2 u}{\\partial x^2}\n",
    "\\end{equation}\n",
    "<br/>\n",
    "\\begin{equation}\n",
    "U(x,t)=U_0[\\frac{1}{\\sqrt{2 \\pi \\sqrt{2at}}}exp({{-\\frac{x^2}{4at}})}]\n",
    "\\end{equation}"
   ]
  },
  {
   "cell_type": "code",
   "execution_count": 60,
   "metadata": {},
   "outputs": [],
   "source": [
    "def diffusion(x, t, a = 5, u_0 = 1):\n",
    "    if(x == 0):\n",
    "        return 0\n",
    "    return u_0 * (1 / sqrt(2 * pi * sqrt(2 * a * t))) * exp(-x**2 / 4 * a * t)"
   ]
  },
  {
   "cell_type": "code",
   "execution_count": 61,
   "metadata": {},
   "outputs": [
    {
     "data": {
      "text/plain": [
       "[<matplotlib.lines.Line2D at 0x269002cd340>]"
      ]
     },
     "execution_count": 61,
     "metadata": {},
     "output_type": "execute_result"
    },
    {
     "data": {
      "image/png": "[encoded data removed]",
      "text/plain": [
       "<Figure size 432x288 with 1 Axes>"
      ]
     },
     "metadata": {
      "needs_background": "light"
     },
     "output_type": "display_data"
    }
   ],
   "source": [
    "T = np.array([i * 2 for i in range(1,10000000)])\n",
    "X = np.arange(-3.0, 3.0, 0.01)\n",
    "diff = []\n",
    "\n",
    "for i in range(len(X)):\n",
    "    diff.append(diffusion(X[i],T[i]))\n",
    "plt.plot(T[:len(diff)], diff)"
   ]
  },
  {
   "cell_type": "markdown",
   "metadata": {},
   "source": [
    "# Дрейф\n",
    "\\begin{equation}\n",
    "\\frac{\\partial u}{\\partial t} = -V \\frac{\\partial u}{\\partial x}\n",
    "\\end{equation}\n",
    "<br/>\n",
    "\\begin{equation}\n",
    "U(x,t)=\\psi{(x-Vt)}\n",
    "\\end{equation}"
   ]
  },
  {
   "cell_type": "code",
   "execution_count": 5,
   "metadata": {},
   "outputs": [],
   "source": [
    "def dreif(x, V, t):\n",
    "    pass"
   ]
  },
  {
   "cell_type": "markdown",
   "metadata": {},
   "source": [
    "# Источниковый механизм\n",
    "\\begin{equation}\n",
    "\\frac{\\partial u}{\\partial t} = CU\n",
    "\\end{equation}\n",
    "<br/>\n",
    "\\begin{equation}\n",
    "U(t)=U_0*e^{Ct}\n",
    "\\end{equation}"
   ]
  },
  {
   "cell_type": "code",
   "execution_count": 2,
   "metadata": {},
   "outputs": [],
   "source": [
    "def source(t, c, u_0):\n",
    "    return u_0 * math.exp(c * t)"
   ]
  },
  {
   "cell_type": "markdown",
   "metadata": {},
   "source": [
    "# Анализ модели"
   ]
  },
  {
   "cell_type": "code",
   "execution_count": null,
   "metadata": {},
   "outputs": [],
   "source": []
  }
 ],
 "metadata": {
  "kernelspec": {
   "display_name": "Python 3",
   "language": "python",
   "name": "python3"
  },
  "language_info": {
   "codemirror_mode": {
    "name": "ipython",
    "version": 3
   },
   "file_extension": ".py",
   "mimetype": "text/x-python",
   "name": "python",
   "nbconvert_exporter": "python",
   "pygments_lexer": "ipython3",
   "version": "3.8.0"
  }
 },
 "nbformat": 4,
 "nbformat_minor": 4
}
