{
  "nbformat": 4,
  "nbformat_minor": 0,
  "metadata": {
    "colab": {
      "name": "Reviznikov.ipynb",
      "provenance": [],
      "collapsed_sections": []
    },
    "kernelspec": {
      "name": "python3",
      "display_name": "Python 3"
    }
  },
  "cells": [
    {
      "cell_type": "markdown",
      "metadata": {
        "id": "B7o89rldPGZO"
      },
      "source": [
        "#Прямая задача"
      ]
    },
    {
      "cell_type": "code",
      "metadata": {
        "id": "83EUYMaQL35A",
        "outputId": "69c56d56-a5c4-485f-81ac-12756d62f083",
        "colab": {
          "base_uri": "https://localhost:8080/",
          "height": 295
        }
      },
      "source": [
        "import matplotlib.pyplot as plt\n",
        "import numpy as np\n",
        "from numpy.random import normal\n",
        "\n",
        "def rk4(r, t, h):                    #edited; no need for input f\n",
        "        \"\"\" Runge-Kutta 4 method \"\"\"\n",
        "        k1 = h*f(r, t)\n",
        "        k2 = h*f(r+0.5*k1, t+0.5*h)\n",
        "        k3 = h*f(r+0.5*k2, t+0.5*h)\n",
        "        k4 = h*f(r+k3, t+h)\n",
        "        return (k1 + 2*k2 + 2*k3 + k4)/6\n",
        "\n",
        "def f(r, t):\n",
        "        alpha = 1.0\n",
        "        beta = 0.5\n",
        "        gamma = 0.5\n",
        "        sigma = 2.0\n",
        "        x, y = r[0], r[1]\n",
        "        fxd = x*(alpha - beta*y)\n",
        "        fyd = -y*(gamma - sigma*x)\n",
        "        return np.array([fxd, fyd], float)\n",
        "\n",
        "def direct_task(h=0.001):\n",
        "  tpoints = np.arange(0, 30, h)\n",
        "  xpoints, ypoints  = [], []\n",
        "  r = np.array([2, 2], float)\n",
        "  for t in tpoints:\n",
        "        xpoints.append(r[0]+normal(0,r[0]))          #edited\n",
        "        ypoints.append(r[1]+normal(0,r[1]))          #edited\n",
        "        r += rk4(r, t, h)   \n",
        "  return [xpoints,ypoints]\n",
        "\n",
        "\n",
        "  \n",
        "h=0.001                               #edited\n",
        "tpoints = np.arange(0, 30, h)         #edited\n",
        "xpoints, ypoints  = [], []\n",
        "r = np.array([2, 2], float)\n",
        "for t in tpoints:\n",
        "        xpoints.append(r[0]+normal(0,r[0]))          #edited\n",
        "        ypoints.append(r[1]+normal(0,r[1]))          #edited\n",
        "        r += rk4(r, t, h)             #edited; no need for input f\n",
        "plt.plot(tpoints, xpoints)\n",
        "plt.plot(tpoints, ypoints)\n",
        "plt.xlabel(\"Time\")\n",
        "plt.ylabel(\"Population\")\n",
        "plt.title(\"Lotka-Volterra Model\")\n",
        "plt.savefig(\"Lotka_Volterra.png\")\n",
        "plt.show()\n",
        "\n",
        "\n",
        "\n",
        "#point_1 = [i + normal(0, sigma) for i in point]\n"
      ],
      "execution_count": null,
      "outputs": [
        {
          "output_type": "display_data",
          "data": {
            "image/png": "[encoded data removed]",
            "text/plain": [
              "<Figure size 432x288 with 1 Axes>"
            ]
          },
          "metadata": {
            "tags": [],
            "needs_background": "light"
          }
        }
      ]
    },
    {
      "cell_type": "code",
      "metadata": {
        "id": "w-aZYpeiMBE5"
      },
      "source": [
        "\n"
      ],
      "execution_count": null,
      "outputs": []
    },
    {
      "cell_type": "markdown",
      "metadata": {
        "id": "Yfi0brqRPKyv"
      },
      "source": [
        "##Нелдер-Мид"
      ]
    },
    {
      "cell_type": "code",
      "metadata": {
        "id": "TLLnTcK_dWPM"
      },
      "source": [
        "import matplotlib.pyplot as plt\n",
        "import numpy as np\n",
        "from numpy.random import normal\n",
        "\n",
        "def rk4(r, t, h):                    #edited; no need for input f\n",
        "        \"\"\" Runge-Kutta 4 method \"\"\"\n",
        "        k1 = h*f(r, t)\n",
        "        k2 = h*f(r+0.5*k1, t+0.5*h)\n",
        "        k3 = h*f(r+0.5*k2, t+0.5*h)\n",
        "        k4 = h*f(r+k3, t+h)\n",
        "        return (k1 + 2*k2 + 2*k3 + k4)/6\n",
        "\n",
        "def f(r, t, params):\n",
        "        #alpha = 1.0\n",
        "        #beta = 0.5\n",
        "        #gamma = 0.5\n",
        "        #sigma = 2.0\n",
        "        x, y = r[0], r[1]\n",
        "        fxd = x*(params[0] - params[1]*y)\n",
        "        fyd = -y*(params[2] - params[3]*x)\n",
        "        return np.array([fxd, fyd], float)\n",
        "\n",
        "def direct_task(h=0.001,params):\n",
        "  tpoints = np.arange(0, 30, h)\n",
        "  xpoints, ypoints  = [], []\n",
        "  r = np.array([2, 2], float)\n",
        "  for t in tpoints:\n",
        "        xpoints.append(r[0]+normal(0,r[0]))          #edited\n",
        "        ypoints.append(r[1]+normal(0,r[1]))          #edited\n",
        "        r += rk4(r, t, h)   \n",
        "  return [xpoints,ypoints]"
      ],
      "execution_count": null,
      "outputs": []
    },
    {
      "cell_type": "code",
      "metadata": {
        "id": "RMUQVSM_MEAw"
      },
      "source": [
        "alpha = 1.0\n",
        "beta = 0.5\n",
        "gamma = 0.5\n",
        "sigma = 2.0\n",
        "x, y = r[0], r[1]\n",
        "fxd = x*(alpha - beta*y)\n",
        "fyd = -y*(gamma - sigma*x)"
      ],
      "execution_count": null,
      "outputs": []
    },
    {
      "cell_type": "code",
      "metadata": {
        "id": "rBvOr96YPr3S"
      },
      "source": [
        "def error_function(u_etalon, u_check):\n",
        "  return sum([(m - n)**2 for m,n in zip(u_etalon[0],u_check[0])]) + sum([(m - n)**2 for m,n in zip(u_etalon[1],u_check[1])])"
      ],
      "execution_count": null,
      "outputs": []
    },
    {
      "cell_type": "code",
      "metadata": {
        "id": "N36C12MUZrk7"
      },
      "source": [
        "a = [[1,2,3,4],[4,5,6,7]]\n",
        "b = [[3,4,5,6],[1,2,3,4]]\n"
      ],
      "execution_count": null,
      "outputs": []
    },
    {
      "cell_type": "code",
      "metadata": {
        "id": "nF_q8CCdaNzm",
        "outputId": "25f03376-ebd4-4863-c6a1-a2a278c97f15",
        "colab": {
          "base_uri": "https://localhost:8080/",
          "height": 34
        }
      },
      "source": [
        "error_function(a,b)"
      ],
      "execution_count": null,
      "outputs": [
        {
          "output_type": "execute_result",
          "data": {
            "text/plain": [
              "52"
            ]
          },
          "metadata": {
            "tags": []
          },
          "execution_count": 22
        }
      ]
    },
    {
      "cell_type": "markdown",
      "metadata": {
        "id": "qP6Ar2KVPEk1"
      },
      "source": [
        ""
      ]
    }
  ]
}